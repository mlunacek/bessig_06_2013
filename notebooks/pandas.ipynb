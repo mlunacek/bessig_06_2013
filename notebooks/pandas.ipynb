{
 "metadata": {
  "name": "pandas"
 },
 "nbformat": 3,
 "nbformat_minor": 0,
 "worksheets": [
  {
   "cells": [
    {
     "cell_type": "markdown",
     "metadata": {},
     "source": [
      "# Pandas\n",
      "\n",
      "This is adapted from 'Python for Data Analysis' by Wes McKinney\n",
      "\n",
      "<img src='files/slides/python_for_data_analysis.png' style='height:300px;'>"
     ]
    },
    {
     "cell_type": "markdown",
     "metadata": {},
     "source": [
      "##Objectives\n",
      "\n",
      "* Merge\n",
      "* Aggregation: group by\n",
      "* Filtering data\n",
      "\n",
      "Questions:\n",
      "\n",
      "* What are the highest rated movies?\n",
      "* Which movies do men and women disagree on the most?"
     ]
    },
    {
     "cell_type": "markdown",
     "metadata": {},
     "source": [
      "##Reading in the data\n",
      "###What's the data look like?"
     ]
    },
    {
     "cell_type": "code",
     "collapsed": false,
     "input": [
      "!head movie_data/users.dat "
     ],
     "language": "python",
     "metadata": {},
     "outputs": [
      {
       "output_type": "stream",
       "stream": "stdout",
       "text": [
        "1::F::1::10::48067\r\n",
        "2::M::56::16::70072\r\n",
        "3::M::25::15::55117\r\n",
        "4::M::45::7::02460\r\n",
        "5::M::25::20::55455\r\n",
        "6::F::50::9::55117\r\n",
        "7::M::35::1::06810\r\n",
        "8::M::25::12::11413\r\n",
        "9::M::25::17::61614\r\n",
        "10::F::35::1::95370\r\n"
       ]
      }
     ],
     "prompt_number": 12
    },
    {
     "cell_type": "code",
     "collapsed": false,
     "input": [
      "!head movie_data/ratings.dat"
     ],
     "language": "python",
     "metadata": {},
     "outputs": [
      {
       "output_type": "stream",
       "stream": "stdout",
       "text": [
        "1::1193::5::978300760\r\n",
        "1::661::3::978302109\r\n",
        "1::914::3::978301968\r\n",
        "1::3408::4::978300275\r\n",
        "1::2355::5::978824291\r\n",
        "1::1197::3::978302268\r\n",
        "1::1287::5::978302039\r\n",
        "1::2804::5::978300719\r\n",
        "1::594::4::978302268\r\n",
        "1::919::4::978301368\r\n"
       ]
      }
     ],
     "prompt_number": 13
    },
    {
     "cell_type": "code",
     "collapsed": false,
     "input": [
      "!head movie_data/movies.dat"
     ],
     "language": "python",
     "metadata": {},
     "outputs": [
      {
       "output_type": "stream",
       "stream": "stdout",
       "text": [
        "1::Toy Story (1995)::Animation|Children's|Comedy\r\n",
        "2::Jumanji (1995)::Adventure|Children's|Fantasy\r\n",
        "3::Grumpier Old Men (1995)::Comedy|Romance\r\n",
        "4::Waiting to Exhale (1995)::Comedy|Drama\r\n",
        "5::Father of the Bride Part II (1995)::Comedy\r\n",
        "6::Heat (1995)::Action|Crime|Thriller\r\n",
        "7::Sabrina (1995)::Comedy|Romance\r\n",
        "8::Tom and Huck (1995)::Adventure|Children's\r\n",
        "9::Sudden Death (1995)::Action\r\n",
        "10::GoldenEye (1995)::Action|Adventure|Thriller\r\n"
       ]
      }
     ],
     "prompt_number": 14
    },
    {
     "cell_type": "markdown",
     "metadata": {},
     "source": [
      "### Read in the data with Panadas"
     ]
    },
    {
     "cell_type": "code",
     "collapsed": false,
     "input": [
      "import pandas as pd\n",
      "import os\n",
      "\n",
      "unames = ['user_id','gender','age','occupation','zip']\n",
      "users = pd.read_table(os.path.join('movie_data','users.dat'), \n",
      "                      sep='::', header=None, names=unames)\n",
      "print users.head()"
     ],
     "language": "python",
     "metadata": {},
     "outputs": [
      {
       "output_type": "stream",
       "stream": "stdout",
       "text": [
        "   user_id gender  age  occupation    zip\n",
        "0        1      F    1          10  48067\n",
        "1        2      M   56          16  70072\n",
        "2        3      M   25          15  55117\n",
        "3        4      M   45           7  02460\n",
        "4        5      M   25          20  55455"
       ]
      },
      {
       "output_type": "stream",
       "stream": "stdout",
       "text": [
        "\n"
       ]
      }
     ],
     "prompt_number": 15
    },
    {
     "cell_type": "code",
     "collapsed": false,
     "input": [
      "rnames = ['user_id', 'movie_id', 'rating', 'timestamp']\n",
      "ratings = pd.read_table(os.path.join('movie_data','ratings.dat'),\n",
      "                        sep='::', header=None, names=rnames)\n",
      "print ratings.head()"
     ],
     "language": "python",
     "metadata": {},
     "outputs": [
      {
       "output_type": "stream",
       "stream": "stdout",
       "text": [
        "   user_id  movie_id  rating  timestamp\n",
        "0        1      1193       5  978300760\n",
        "1        1       661       3  978302109\n",
        "2        1       914       3  978301968\n",
        "3        1      3408       4  978300275\n",
        "4        1      2355       5  978824291\n"
       ]
      }
     ],
     "prompt_number": 16
    },
    {
     "cell_type": "code",
     "collapsed": false,
     "input": [
      "mnames = ['movie_id', 'title','genres']\n",
      "movies = pd.read_table(os.path.join('movie_data','movies.dat'), \n",
      "                       sep='::', header=None, names=mnames)\n",
      "print movies.head()"
     ],
     "language": "python",
     "metadata": {},
     "outputs": [
      {
       "output_type": "stream",
       "stream": "stdout",
       "text": [
        "   movie_id                               title                        genres\n",
        "0         1                    Toy Story (1995)   Animation|Children's|Comedy\n",
        "1         2                      Jumanji (1995)  Adventure|Children's|Fantasy\n",
        "2         3             Grumpier Old Men (1995)                Comedy|Romance\n",
        "3         4            Waiting to Exhale (1995)                  Comedy|Drama\n",
        "4         5  Father of the Bride Part II (1995)                        Comedy\n"
       ]
      }
     ],
     "prompt_number": 17
    },
    {
     "cell_type": "markdown",
     "metadata": {},
     "source": [
      "##Merge\n",
      "Pandas has several ways to combine and merge data:\n",
      "\n",
      "* merge: connect rows on one or more keys.  Think SQL.\n",
      "* concat: stacks objects along an axis\n",
      "* combine_first: overlapping data"
     ]
    },
    {
     "cell_type": "code",
     "collapsed": false,
     "input": [
      "data = pd.merge(pd.merge(ratings, users), movies)\n",
      "print data"
     ],
     "language": "python",
     "metadata": {},
     "outputs": [
      {
       "output_type": "stream",
       "stream": "stdout",
       "text": [
        "<class 'pandas.core.frame.DataFrame'>\n",
        "Int64Index: 1000209 entries, 0 to 1000208\n",
        "Data columns:\n",
        "user_id       1000209  non-null values\n",
        "movie_id      1000209  non-null values\n",
        "rating        1000209  non-null values\n",
        "timestamp     1000209  non-null values\n",
        "gender        1000209  non-null values\n",
        "age           1000209  non-null values\n",
        "occupation    1000209  non-null values\n",
        "zip           1000209  non-null values\n",
        "title         1000209  non-null values\n",
        "genres        1000209  non-null values\n",
        "dtypes: int64(6), object(4)\n"
       ]
      }
     ],
     "prompt_number": 18
    },
    {
     "cell_type": "code",
     "collapsed": false,
     "input": [
      "print data.head()"
     ],
     "language": "python",
     "metadata": {},
     "outputs": [
      {
       "output_type": "stream",
       "stream": "stdout",
       "text": [
        "   user_id  movie_id  rating  timestamp gender  age  occupation    zip  \\\n",
        "0        1      1193       5  978300760      F    1          10  48067   \n",
        "1        2      1193       5  978298413      M   56          16  70072   \n",
        "2       12      1193       4  978220179      M   25          12  32793   \n",
        "3       15      1193       4  978199279      M   25           7  22903   \n",
        "4       17      1193       5  978158471      M   50           1  95350   \n",
        "\n",
        "                                    title genres  \n",
        "0  One Flew Over the Cuckoo's Nest (1975)  Drama  \n",
        "1  One Flew Over the Cuckoo's Nest (1975)  Drama  \n",
        "2  One Flew Over the Cuckoo's Nest (1975)  Drama  \n",
        "3  One Flew Over the Cuckoo's Nest (1975)  Drama  \n",
        "4  One Flew Over the Cuckoo's Nest (1975)  Drama  \n"
       ]
      }
     ],
     "prompt_number": 19
    },
    {
     "cell_type": "markdown",
     "metadata": {},
     "source": [
      "###What is the highest rated movie?"
     ]
    },
    {
     "cell_type": "code",
     "collapsed": false,
     "input": [
      "group = data['rating'].groupby(data['title'])"
     ],
     "language": "python",
     "metadata": {},
     "outputs": [],
     "prompt_number": 20
    },
    {
     "cell_type": "code",
     "collapsed": false,
     "input": [
      "mean_data = group.mean()\n",
      "mean_data.describe()"
     ],
     "language": "python",
     "metadata": {},
     "outputs": [
      {
       "output_type": "pyout",
       "prompt_number": 21,
       "text": [
        "count    3706.000000\n",
        "mean        3.238892\n",
        "std         0.672925\n",
        "min         1.000000\n",
        "25%         2.822705\n",
        "50%         3.331546\n",
        "75%         3.740741\n",
        "max         5.000000"
       ]
      }
     ],
     "prompt_number": 21
    },
    {
     "cell_type": "code",
     "collapsed": false,
     "input": [
      "mean_data.order(ascending=False).head(10)"
     ],
     "language": "python",
     "metadata": {},
     "outputs": [
      {
       "output_type": "pyout",
       "prompt_number": 22,
       "text": [
        "title\n",
        "Ulysses (Ulisse) (1954)                      5\n",
        "Song of Freedom (1936)                       5\n",
        "Smashing Time (1967)                         5\n",
        "Schlafes Bruder (Brother of Sleep) (1995)    5\n",
        "One Little Indian (1973)                     5\n",
        "Lured (1947)                                 5\n",
        "Gate of Heavenly Peace, The (1995)           5\n",
        "Follow the Bitch (1998)                      5\n",
        "Bittersweet Motel (2000)                     5\n",
        "Baby, The (1973)                             5"
       ]
      }
     ],
     "prompt_number": 22
    },
    {
     "cell_type": "markdown",
     "metadata": {},
     "source": [
      "<img src='files/slides/best_movies.png' style='height:300px;'>\n",
      "<p style='margin-bottom: 10cm'>Seems a bit odd? \n",
      "What's wrong with this picture?</p>"
     ]
    },
    {
     "cell_type": "markdown",
     "metadata": {},
     "source": [
      "\n",
      "\n",
      "\n",
      "\n",
      "\n",
      "\n"
     ]
    },
    {
     "cell_type": "code",
     "collapsed": false,
     "input": [
      "number_and_mean = group.agg([size, mean])\n",
      "print number_and_mean.sort('mean', ascending=False).head(10)"
     ],
     "language": "python",
     "metadata": {},
     "outputs": [
      {
       "output_type": "stream",
       "stream": "stdout",
       "text": [
        "                                           size  mean\n",
        "title                                                \n",
        "Gate of Heavenly Peace, The (1995)            3     5\n",
        "Lured (1947)                                  1     5\n",
        "Ulysses (Ulisse) (1954)                       1     5\n",
        "Smashing Time (1967)                          2     5\n",
        "Follow the Bitch (1998)                       1     5\n",
        "Song of Freedom (1936)                        1     5\n",
        "Bittersweet Motel (2000)                      1     5\n",
        "Baby, The (1973)                              1     5\n",
        "One Little Indian (1973)                      1     5\n",
        "Schlafes Bruder (Brother of Sleep) (1995)     1     5\n"
       ]
      }
     ],
     "prompt_number": 23
    },
    {
     "cell_type": "markdown",
     "metadata": {},
     "source": [
      "###Filtering\n",
      "Let's filter our data.  Only look at movies that have had at least 1000 ratings."
     ]
    },
    {
     "cell_type": "code",
     "collapsed": false,
     "input": [
      "high_index = number_and_mean['size'] > 1000\n",
      "print high_index.head()"
     ],
     "language": "python",
     "metadata": {},
     "outputs": [
      {
       "output_type": "stream",
       "stream": "stdout",
       "text": [
        "title\n",
        "$1,000,000 Duck (1971)           False\n",
        "'Night Mother (1986)             False\n",
        "'Til There Was You (1997)        False\n",
        "'burbs, The (1989)               False\n",
        "...And Justice for All (1979)    False\n",
        "Name: size\n"
       ]
      }
     ],
     "prompt_number": 24
    },
    {
     "cell_type": "code",
     "collapsed": false,
     "input": [
      "print number_and_mean[high_index].head()"
     ],
     "language": "python",
     "metadata": {},
     "outputs": [
      {
       "output_type": "stream",
       "stream": "stdout",
       "text": [
        "                              size      mean\n",
        "title                                       \n",
        "2001: A Space Odyssey (1968)  1716  4.068765\n",
        "Abyss, The (1989)             1715  3.683965\n",
        "African Queen, The (1951)     1057  4.251656\n",
        "Air Force One (1997)          1076  3.588290\n",
        "Airplane! (1980)              1731  3.971115\n"
       ]
      }
     ],
     "prompt_number": 25
    },
    {
     "cell_type": "code",
     "collapsed": false,
     "input": [
      "print number_and_mean[high_index].sort('mean', \n",
      "       ascending=False).head(10)"
     ],
     "language": "python",
     "metadata": {},
     "outputs": [
      {
       "output_type": "stream",
       "stream": "stdout",
       "text": [
        "                                                                             size  \\\n",
        "title                                                                               \n",
        "Shawshank Redemption, The (1994)                                             2227   \n",
        "Godfather, The (1972)                                                        2223   \n",
        "Usual Suspects, The (1995)                                                   1783   \n",
        "Schindler's List (1993)                                                      2304   \n",
        "Raiders of the Lost Ark (1981)                                               2514   \n",
        "Rear Window (1954)                                                           1050   \n",
        "Star Wars: Episode IV - A New Hope (1977)                                    2991   \n",
        "Dr. Strangelove or: How I Learned to Stop Worrying and Love the Bomb (1963)  1367   \n",
        "Casablanca (1942)                                                            1669   \n",
        "Sixth Sense, The (1999)                                                      2459   \n",
        "\n",
        "                                                                                 mean  \n",
        "title                                                                                  \n",
        "Shawshank Redemption, The (1994)                                             4.554558  \n",
        "Godfather, The (1972)                                                        4.524966  \n",
        "Usual Suspects, The (1995)                                                   4.517106  \n",
        "Schindler's List (1993)                                                      4.510417  \n",
        "Raiders of the Lost Ark (1981)                                               4.477725  \n",
        "Rear Window (1954)                                                           4.476190  \n",
        "Star Wars: Episode IV - A New Hope (1977)                                    4.453694  \n",
        "Dr. Strangelove or: How I Learned to Stop Worrying and Love the Bomb (1963)  4.449890  \n",
        "Casablanca (1942)                                                            4.412822  \n",
        "Sixth Sense, The (1999)                                                      4.406263  \n"
       ]
      }
     ],
     "prompt_number": 26
    },
    {
     "cell_type": "markdown",
     "metadata": {},
     "source": [
      "<img src='files/slides/good_movies.png' style='height:300px;'>"
     ]
    }
   ],
   "metadata": {}
  }
 ]
}