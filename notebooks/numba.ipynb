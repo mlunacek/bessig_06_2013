{
 "metadata": {
  "name": "numba"
 },
 "nbformat": 3,
 "nbformat_minor": 0,
 "worksheets": [
  {
   "cells": [
    {
     "cell_type": "markdown",
     "metadata": {},
     "source": [
      "#Numba Mandelbrot\n",
      "\n",
      "Example from https://github.com/harrism\n",
      "\n",
      "Non-numba methods: http://ianozsvald.com/2011/07/25/high-performance-python-tutorial-v0-2-from-europython-2011\n",
      "\n",
      "<img src=\"files/slides/mandelbrot.png\" style=\"height:500px\">\n"
     ]
    },
    {
     "cell_type": "markdown",
     "metadata": {},
     "source": [
      "## Using numpy"
     ]
    },
    {
     "cell_type": "code",
     "collapsed": false,
     "input": [
      "import numpy as np\n",
      "from timeit import default_timer as timer"
     ],
     "language": "python",
     "metadata": {},
     "outputs": [],
     "prompt_number": 1
    },
    {
     "cell_type": "code",
     "collapsed": false,
     "input": [
      "def mandel(x, y, max_iters):\n",
      "  c = complex(x, y)\n",
      "  z = 0.0j\n",
      "  for i in range(max_iters):\n",
      "    z = z*z + c\n",
      "    if (z.real*z.real + z.imag*z.imag) >= 4:\n",
      "      return i\n",
      "\n",
      "  return max_iters"
     ],
     "language": "python",
     "metadata": {},
     "outputs": [],
     "prompt_number": 2
    },
    {
     "cell_type": "code",
     "collapsed": false,
     "input": [
      "def create_fractal(min_x, max_x, min_y, max_y, image, iters):\n",
      "  height = image.shape[0]\n",
      "  width = image.shape[1]\n",
      "\n",
      "  pixel_size_x = (max_x - min_x) / width\n",
      "  pixel_size_y = (max_y - min_y) / height\n",
      "    \n",
      "  for x in range(width):\n",
      "    real = min_x + x * pixel_size_x\n",
      "    for y in range(height):\n",
      "      imag = min_y + y * pixel_size_y\n",
      "      color = mandel(real, imag, iters)\n",
      "      image[y, x] = color"
     ],
     "language": "python",
     "metadata": {},
     "outputs": [],
     "prompt_number": 3
    },
    {
     "cell_type": "code",
     "collapsed": false,
     "input": [
      "image = np.zeros((1024, 1536), dtype = np.uint8)\n",
      "start = timer()\n",
      "create_fractal(-2.0, 1.0, -1.0, 1.0, image, 20) \n",
      "dt = timer() - start\n",
      "\n",
      "print \"Mandelbrot created in %f s\" % dt"
     ],
     "language": "python",
     "metadata": {},
     "outputs": [
      {
       "output_type": "stream",
       "stream": "stdout",
       "text": [
        "Mandelbrot created in 10.317021 s\n"
       ]
      }
     ],
     "prompt_number": 4
    },
    {
     "cell_type": "markdown",
     "metadata": {},
     "source": [
      "## Increasing efficiency with `autojit`"
     ]
    },
    {
     "cell_type": "code",
     "collapsed": false,
     "input": [
      "from numba import autojit\n",
      "\n",
      "@autojit\n",
      "def mandel(x, y, max_iters):\n",
      "  \"\"\"\n",
      "    Given the real and imaginary parts of a complex number,\n",
      "    determine if it is a candidate for membership in the Mandelbrot\n",
      "    set given a fixed number of iterations.\n",
      "  \"\"\"\n",
      "  c = complex(x, y)\n",
      "  z = 0.0j\n",
      "  for i in range(max_iters):\n",
      "    z = z*z + c\n",
      "    if (z.real*z.real + z.imag*z.imag) >= 4:\n",
      "      return i\n",
      "\n",
      "  return max_iters\n",
      "\n",
      "@autojit\n",
      "def create_fractal(min_x, max_x, min_y, max_y, image, iters):\n",
      "  height = image.shape[0]\n",
      "  width = image.shape[1]\n",
      "\n",
      "  pixel_size_x = (max_x - min_x) / width\n",
      "  pixel_size_y = (max_y - min_y) / height\n",
      "    \n",
      "  for x in range(width):\n",
      "    real = min_x + x * pixel_size_x\n",
      "    for y in range(height):\n",
      "      imag = min_y + y * pixel_size_y\n",
      "      color = mandel(real, imag, iters)\n",
      "      image[y, x] = color"
     ],
     "language": "python",
     "metadata": {},
     "outputs": [],
     "prompt_number": 5
    },
    {
     "cell_type": "code",
     "collapsed": false,
     "input": [
      "image = np.zeros((1024, 1536), dtype = np.uint8)\n",
      "start = timer()\n",
      "create_fractal(-2.0, 1.0, -1.0, 1.0, image, 20) \n",
      "dt = timer() - start\n",
      "\n",
      "print \"Mandelbrot created in %f s\" % dt"
     ],
     "language": "python",
     "metadata": {},
     "outputs": [
      {
       "output_type": "stream",
       "stream": "stdout",
       "text": [
        "Mandelbrot created in 0.505203 s"
       ]
      },
      {
       "output_type": "stream",
       "stream": "stdout",
       "text": [
        "\n"
       ]
      }
     ],
     "prompt_number": 6
    },
    {
     "cell_type": "code",
     "collapsed": false,
     "input": [],
     "language": "python",
     "metadata": {},
     "outputs": []
    }
   ],
   "metadata": {}
  }
 ]
}